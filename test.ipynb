{
 "cells": [
  {
   "cell_type": "code",
   "execution_count": 4,
   "id": "7782131f",
   "metadata": {},
   "outputs": [
    {
     "name": "stdout",
     "output_type": "stream",
     "text": [
      "test2\n",
      "test\n",
      "test2\n",
      "test2\n",
      "test\n",
      "test2\n",
      "test2\n",
      "test\n",
      "test2\n",
      "test2\n",
      "test\n",
      "test2\n",
      "test2\n",
      "test\n",
      "test2\n"
     ]
    }
   ],
   "source": [
    "for i in range(10):\n",
    "    print(\"test2\")\n",
    "    if i % 2 == 0:\n",
    "        print(\"test\")"
   ]
  },
  {
   "cell_type": "code",
   "execution_count": null,
   "id": "2933c4d7",
   "metadata": {},
   "outputs": [],
   "source": []
  }
 ],
 "metadata": {
  "kernelspec": {
   "display_name": "Python 3",
   "language": "python",
   "name": "python3"
  },
  "language_info": {
   "codemirror_mode": {
    "name": "ipython",
    "version": 3
   },
   "file_extension": ".py",
   "mimetype": "text/x-python",
   "name": "python",
   "nbconvert_exporter": "python",
   "pygments_lexer": "ipython3",
   "version": "3.10.11"
  }
 },
 "nbformat": 4,
 "nbformat_minor": 5
}
